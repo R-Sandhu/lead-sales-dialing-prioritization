{
 "cells": [
  {
   "cell_type": "markdown",
   "metadata": {},
   "source": [
    "***\n",
    "## Optimize sales operations by prioritizing dialing using machine learning\n",
    "#### <font color=green>*Ranjeet Sandhu*</font>\n",
    "***"
   ]
  },
  {
   "cell_type": "markdown",
   "metadata": {},
   "source": [
    "### Contents"
   ]
  },
  {
   "cell_type": "markdown",
   "metadata": {},
   "source": [
    "- **Data analysis & key findings**\n",
    "\n",
    "\n",
    "- **Feature selection**\n",
    "\n",
    "\n",
    "- **Data wrangling**\n",
    " - **Missing value handling** \n",
    " - **Calculating sales probabilities for afid**\n",
    " - **Feature mapping**\n",
    "\n",
    "\n",
    "- **Data cleaning**\n",
    "\n",
    "\n",
    "- **Predictive modeling strategy**\n",
    "\n",
    "\n",
    "- **Machine learning models' preformance analysis**\n",
    "\n",
    "\n",
    "- **Model selection**\n",
    "\n",
    "\n",
    "- **Conclusion**"
   ]
  },
  {
   "cell_type": "markdown",
   "metadata": {},
   "source": [
    "---"
   ]
  },
  {
   "cell_type": "code",
   "execution_count": 1,
   "metadata": {},
   "outputs": [],
   "source": [
    "########################################################\n",
    "### Import Libraries\n",
    "########################################################"
   ]
  },
  {
   "cell_type": "code",
   "execution_count": 2,
   "metadata": {},
   "outputs": [],
   "source": [
    "import numpy as np\n",
    "import pandas as pd\n",
    "import datetime as dt\n",
    "import matplotlib.pyplot as plt\n",
    "import seaborn as sns\n",
    "from collections import Counter\n",
    "from sklearn.preprocessing import LabelEncoder\n",
    "from sklearn.preprocessing import OneHotEncoder\n",
    "from sklearn.preprocessing import MinMaxScaler\n",
    "from sklearn.compose import ColumnTransformer\n",
    "from sklearn.preprocessing import StandardScaler\n",
    "from sklearn.model_selection import train_test_split\n",
    "from sklearn.model_selection import KFold\n",
    "from sklearn.model_selection import cross_val_score\n",
    "from sklearn.metrics import classification_report\n",
    "from sklearn.metrics import confusion_matrix\n",
    "from sklearn.metrics import accuracy_score\n",
    "from sklearn.pipeline import Pipeline\n",
    "from sklearn.linear_model import LogisticRegression\n",
    "from sklearn.tree import DecisionTreeClassifier\n",
    "from sklearn.neighbors import KNeighborsClassifier\n",
    "from sklearn.discriminant_analysis import LinearDiscriminantAnalysis\n",
    "from sklearn.naive_bayes import GaussianNB\n",
    "from sklearn.svm import SVC\n",
    "from sklearn.model_selection import RepeatedStratifiedKFold\n",
    "from sklearn.metrics import fbeta_score\n",
    "from sklearn.metrics import make_scorer"
   ]
  },
  {
   "cell_type": "markdown",
   "metadata": {},
   "source": [
    "---"
   ]
  },
  {
   "cell_type": "code",
   "execution_count": 3,
   "metadata": {},
   "outputs": [],
   "source": [
    "########################################################\n",
    "### Import Dataset\n",
    "########################################################"
   ]
  },
  {
   "cell_type": "code",
   "execution_count": 4,
   "metadata": {},
   "outputs": [],
   "source": [
    "%matplotlib inline\n",
    "plt.rcParams['figure.figsize'] = [13, 13]\n",
    "pd.set_option('display.max_columns', None)  \n",
    "pd.set_option('display.expand_frame_repr', False)\n",
    "pd.set_option('max_colwidth', None)"
   ]
  },
  {
   "cell_type": "code",
   "execution_count": 5,
   "metadata": {},
   "outputs": [],
   "source": [
    "fileName = '/Users/ranjeetsandhu/Downloads/DataAssessment.xlsx'\n",
    "dfCall = pd.read_excel(fileName, sheet_name=\"Call Facts\", engine='openpyxl')\n",
    "dfLead = pd.read_excel(fileName, sheet_name=\"Lead Facts\", engine='openpyxl')"
   ]
  },
  {
   "cell_type": "markdown",
   "metadata": {},
   "source": [
    "---"
   ]
  },
  {
   "cell_type": "markdown",
   "metadata": {},
   "source": [
    "# Call & Lead Facts \n",
    "\n",
    "**Data Analysis & Key Findings**"
   ]
  },
  {
   "cell_type": "markdown",
   "metadata": {},
   "source": [
    "- **Raw Data:**\n",
    " - Number of records in `leads facts` data: `31,020`.\n",
    " - Number of records in `call facts` data: `339,789`.\n",
    " - Number of sales in leads data are `1,087`.\n",
    " - Number of sales in Calls data are `1,648`.\n",
    "\n",
    "\n",
    "- **Key Findings:**\n",
    " - The final sales disposition status in `lead facts` data is recorded based on the most recent call. Considering, the calls could be made after the sales have occured,`latest call disposition` status doesn't reflect if the lead was converted into sales or not. Hence, the disposition status from `call facts` for sale status was used as source of truth.\n",
    " - Current skill doesn't reflect the skill at the time of sale.\n",
    " - Call center dial attempts represent total number of calls made for each `dialer lead id`, it doesn't provide the information on total number of calls made upto the `sale dispo` status.\n",
    "\n",
    "\n",
    "- **Data Preparation:**\n",
    " - The records with missing values for all features were dropped `207,627` from call facts data.\n",
    " - `3269` records where `callCenterLatestDispoGroup` values are missing, were dropped.\n",
    " - Multiple calls are made for each dialer lead id throughout lead lifecycle, therefore, the records were grouped by `dialer lead id`.\n",
    " - The total talk time, handle time, call skill & call attempts were derived based on the following logic:\n",
    "   - **Sales occurred:** The data upto the point of `sale` was considered and the subsequent call records were ignored.\n",
    "   - **Others:** All call records were considered."
   ]
  },
  {
   "cell_type": "markdown",
   "metadata": {},
   "source": [
    "---"
   ]
  },
  {
   "cell_type": "code",
   "execution_count": 6,
   "metadata": {},
   "outputs": [],
   "source": [
    "########################################################\n",
    "### Calls data aggregation and feature generation\n",
    "########################################################"
   ]
  },
  {
   "cell_type": "code",
   "execution_count": 7,
   "metadata": {},
   "outputs": [],
   "source": [
    "dfCall = dfCall[dfCall['cdsCallsFactId'].notnull()]"
   ]
  },
  {
   "cell_type": "code",
   "execution_count": 8,
   "metadata": {},
   "outputs": [],
   "source": [
    "grouping = dfCall.groupby('dialerLeadId')\n",
    "\n",
    "list_of_tuples = []\n",
    "for dialer, group in grouping:\n",
    "    if_sale = (group.dispoGroup == 'Sale').sum()\n",
    "    if if_sale == 0:\n",
    "        callSkill = float(group.tail(1).callSkill.values)\n",
    "        callAttempts = float(group.tail(1).callAttemptNumber.values)\n",
    "        tot_talkTime  = group.talkTimeSeconds.sum()\n",
    "        tot_handleTime = group.handleTimeSeconds.sum()\n",
    "        list_of_tuples.append((dialer, callSkill, callAttempts,\n",
    "                               tot_talkTime, tot_handleTime))\n",
    "    else:\n",
    "        index = (group.dispoGroup == 'Sale').idxmax()\n",
    "        df_sliced = group.loc[:index]\n",
    "        callSkill = float(df_sliced.loc[df_sliced.dispoGroup == 'Sale',\n",
    "                                        'callSkill'])\n",
    "        callAttempts = float(df_sliced.loc[df_sliced.dispoGroup == 'Sale',\n",
    "                                           'callAttemptNumber'])\n",
    "        tot_talkTime = df_sliced.talkTimeSeconds.sum()\n",
    "        tot_handleTime = df_sliced.handleTimeSeconds.sum()\n",
    "        list_of_tuples.append((dialer, callSkill, callAttempts, tot_talkTime,\\\n",
    "                               tot_handleTime))\n",
    "        \n",
    "aggCalls = pd.DataFrame(list_of_tuples, columns=['dialerLeadId',\n",
    "                                                 'callSkill',\n",
    "                                                 'callAttempts',\n",
    "                                                 'totalTalkTime',\n",
    "                                                 'totalHandleTime'])"
   ]
  },
  {
   "cell_type": "markdown",
   "metadata": {},
   "source": [
    "---"
   ]
  },
  {
   "cell_type": "markdown",
   "metadata": {},
   "source": [
    "#### Association between total handle time & talk time\n",
    "\n",
    "- The scatterplot shows a strong linear correlation. \n",
    "- Total handle time is equal or greater than talk time for all calls."
   ]
  },
  {
   "cell_type": "code",
   "execution_count": 9,
   "metadata": {},
   "outputs": [
    {
     "data": {
      "image/png": "[encoded data removed]",
      "text/plain": [
       "<Figure size 936x936 with 1 Axes>"
      ]
     },
     "metadata": {
      "needs_background": "light"
     },
     "output_type": "display_data"
    }
   ],
   "source": [
    "# Plot talk time vs handle time.\n",
    "plt.axis('equal')\n",
    "sns.scatterplot(x = 'totalTalkTime', y = 'totalHandleTime', data = aggCalls); "
   ]
  },
  {
   "cell_type": "markdown",
   "metadata": {},
   "source": [
    "---"
   ]
  },
  {
   "cell_type": "code",
   "execution_count": 10,
   "metadata": {},
   "outputs": [],
   "source": [
    "########################################################\n",
    "### Feature selection\n",
    "########################################################"
   ]
  },
  {
   "cell_type": "markdown",
   "metadata": {},
   "source": [
    "**The following features are selected for further data exploration and machine learning based on preliminary data analysis:**\n",
    "\n",
    "- sourceSystem\n",
    "- afid\n",
    "- campaign_id\n",
    "- originalContactType\n",
    "- ageOnLeadGroup\n",
    "- gender\n",
    "- callCenterLeadCreatedReason\n",
    "- callCenterMinutesToFirstDialAttempt\n",
    "- callCenterLeadEverContacted\n",
    "- callCenterLatestDispoGroup\n",
    "- deliveryMethod\n",
    "- everCallback"
   ]
  },
  {
   "cell_type": "code",
   "execution_count": 11,
   "metadata": {},
   "outputs": [],
   "source": [
    "dfLead.rename(columns={'campaign id': 'campaign_id'}, inplace=True)\n",
    "\n",
    "drop_col = ['cdsLeadFactId', \n",
    "            'sourceSystemId', \n",
    "            'cdsPersonId', \n",
    "            'dimProgramId', \n",
    "            'tztMarketingProject', \n",
    "            'omsMarketingProject', \n",
    "            'externalSystem', \n",
    "            'externalSystemId', \n",
    "            'leadDate',\n",
    "            'leadDateKey', \n",
    "            'dimMarketingSourceId', \n",
    "            'productOfInterest', \n",
    "            'originalInboundDnis', \n",
    "            'leadTypeId', \n",
    "            'leadZip', \n",
    "            'tobacco', \n",
    "            'leadCost', \n",
    "            'callCenterLeadCloneSourceId', \n",
    "            'callCenterDialAttempts',\n",
    "            'leadsReceived', \n",
    "            'leadsAccepted', \n",
    "            'leadsRejected', \n",
    "            'rejectType', \n",
    "            'rejectReason', \n",
    "            'callCenterLeadsTotal', \n",
    "            'callCenterLeadEverSold', \n",
    "            'callCenterLatestDispo', \n",
    "            'callCenterLatestDispoDescription', \n",
    "            'batchid',\n",
    "            'currentSkill',\n",
    "            'originalSkill',\n",
    "            'expirationInDays', \n",
    "            'maxAttempts',\n",
    "            'dailyMaxAttempts', \n",
    "            'leadType']\n",
    "\n",
    "lead = dfLead.drop(drop_col, axis=1)"
   ]
  },
  {
   "cell_type": "code",
   "execution_count": 12,
   "metadata": {},
   "outputs": [],
   "source": [
    "# Set indexes - dialerLeadId\n",
    "lead = lead[lead['callCenterLatestDispoGroup'].notnull()]\n",
    "lead.set_index('dialerLeadId', inplace=True)\n",
    "aggCalls.set_index('dialerLeadId', inplace=True)"
   ]
  },
  {
   "cell_type": "markdown",
   "metadata": {},
   "source": [
    "---"
   ]
  },
  {
   "cell_type": "code",
   "execution_count": 13,
   "metadata": {},
   "outputs": [],
   "source": [
    "########################################################\n",
    "### Join leads and calls data\n",
    "########################################################"
   ]
  },
  {
   "cell_type": "markdown",
   "metadata": {},
   "source": [
    "- Both datasets have same `dialer lead ids`. However, the leads data have unique dialer id records and hence, it will be used as a `primary key`.\n",
    "\n",
    "\n",
    "- The `sale` disposition status in leads data was updated in accordance with calls data, using `dialer lead id` as a reference key."
   ]
  },
  {
   "cell_type": "code",
   "execution_count": 14,
   "metadata": {},
   "outputs": [],
   "source": [
    "# Unique values of dialerLeadId in both tables - 'Sale' disposition discrepancy\n",
    "\n",
    "saleCallId = set(dfCall[dfCall['dispoGroup'] == 'Sale'].dialerLeadId)\n",
    "saleLeadId = set(lead[lead['callCenterLatestDispoGroup'] == 'Sale'].index)\n",
    "diffList = list(saleCallId.difference(saleLeadId))\n",
    "\n",
    "lead_sale_data = lead.loc[diffList]\n",
    "\n",
    "mask = (dfCall['dialerLeadId'].isin(diffList)) & \\\n",
    "       (dfCall['dispoGroup'] == 'Sale')\n",
    "call_sale_data = dfCall[mask]"
   ]
  },
  {
   "cell_type": "code",
   "execution_count": 15,
   "metadata": {
    "scrolled": true
   },
   "outputs": [],
   "source": [
    "# Leads and Calls data where 'dialerLeadId' is associated with sale dispo group\n",
    "# in calls data but not in leads data.\n",
    "\n",
    "lead_skill = lead_sale_data[['callCenterLatestDispoGroup']]\n",
    "call_skill = call_sale_data[['dialerLeadId', 'dispoDescription']]\n",
    "lead_call_sales = pd.merge(lead_skill, call_skill, on = 'dialerLeadId')"
   ]
  },
  {
   "cell_type": "code",
   "execution_count": 16,
   "metadata": {},
   "outputs": [],
   "source": [
    "# Update the leads sale disposition status\n",
    "\n",
    "mask = lead.loc[diffList]\n",
    "lead.loc[mask.index, 'callCenterLatestDispoGroup'] = 'Sale'"
   ]
  },
  {
   "cell_type": "code",
   "execution_count": 17,
   "metadata": {},
   "outputs": [],
   "source": [
    "# Merge the Leads and Calls data frames on dialerLeadId index, keeping all\n",
    "# records from Leads table\n",
    "\n",
    "dfFinal = pd.merge(lead, aggCalls, on = 'dialerLeadId', how = 'left')"
   ]
  },
  {
   "cell_type": "markdown",
   "metadata": {},
   "source": [
    "---"
   ]
  },
  {
   "cell_type": "code",
   "execution_count": 18,
   "metadata": {},
   "outputs": [],
   "source": [
    "########################################################\n",
    "### Missing values analysis and imputation\n",
    "########################################################"
   ]
  },
  {
   "cell_type": "markdown",
   "metadata": {},
   "source": [
    " **Missing values count**\n",
    "\n",
    " - campaign_id: `5240`\n",
    " - gender: `4984`\n",
    " - ageOnLeadGroup: `3998`\n",
    " - afid: `135`\n",
    " - everCallback: `123`\n",
    " - callSkill: `17`"
   ]
  },
  {
   "cell_type": "code",
   "execution_count": 19,
   "metadata": {},
   "outputs": [
    {
     "data": {
      "image/png": "[encoded data removed]",
      "text/plain": [
       "<Figure size 864x576 with 1 Axes>"
      ]
     },
     "metadata": {},
     "output_type": "display_data"
    }
   ],
   "source": [
    "# Missing values count plot\n",
    "nan_all = dfFinal.isna().sum()\n",
    "missing = nan_all[nan_all != 0].sort_values()\n",
    "\n",
    "plt.style.use(\"ggplot\")\n",
    "fig, ax = plt.subplots(figsize=(12, 8))\n",
    "ax.barh(missing.index, missing.values, color='gray')\n",
    "ax.set_xlabel(\"Fig: Missing values count\");"
   ]
  },
  {
   "cell_type": "markdown",
   "metadata": {},
   "source": [
    "#### Impute missing values\n",
    "\n",
    "- Missing values in `campaign_id` & `afid` are replaced with `999999`.\n",
    "\n",
    "\n",
    "- Missing values in `gender` and `age group` feature are replaced with `U`.\n",
    "\n",
    "\n",
    "- Drop records where `everCallback` & `callSkill` values are missing as these records constitute less than `0.05 %` of the data and no information about these values can be inferred from other features in either of the tables."
   ]
  },
  {
   "cell_type": "code",
   "execution_count": 20,
   "metadata": {},
   "outputs": [],
   "source": [
    "def replace_nulls(df, column):\n",
    "    \"\"\"Replaces missing values of categorical variable with U\n",
    "       and numeric variable with 999999 \n",
    "    \"\"\"\n",
    "    mask = df[column].isnull()\n",
    "    if df[column].dtype == 'object':\n",
    "        df.loc[mask, column] = 'U'\n",
    "    else:\n",
    "        df.loc[mask, column] = 999999\n",
    "    return df"
   ]
  },
  {
   "cell_type": "code",
   "execution_count": 21,
   "metadata": {},
   "outputs": [],
   "source": [
    "replace_nulls(dfFinal, 'campaign_id');\n",
    "replace_nulls(dfFinal, 'afid');\n",
    "replace_nulls(dfFinal, 'gender');\n",
    "replace_nulls(dfFinal, 'ageOnLeadGroup');"
   ]
  },
  {
   "cell_type": "code",
   "execution_count": 22,
   "metadata": {},
   "outputs": [],
   "source": [
    "complete_cases = (dfFinal['everCallback'].notnull()) & \\\n",
    "                 (dfFinal['callSkill'].notnull())\n",
    "dfFinal = dfFinal[complete_cases]"
   ]
  },
  {
   "cell_type": "markdown",
   "metadata": {},
   "source": [
    "---"
   ]
  },
  {
   "cell_type": "code",
   "execution_count": 23,
   "metadata": {},
   "outputs": [],
   "source": [
    "########################################################\n",
    "### Calculate probability of sales for afid\n",
    "########################################################"
   ]
  },
  {
   "cell_type": "markdown",
   "metadata": {},
   "source": [
    "**Calculate Probabilities**\n",
    "\n",
    "- `afid` has `253` unique categories in the leads data and feature encoding techniques will result in feature space with large number of dimensions. The better alternative is replacement of `afid` values with sales probabilities.\n",
    "\n",
    "\n",
    "- `afid` are mapped with `sale` dispo status and probabilities are computed for each afid.\n",
    "\n",
    "\n",
    "- Probabilities of `afid` are set to zero if no sale has occurred."
   ]
  },
  {
   "cell_type": "code",
   "execution_count": 24,
   "metadata": {},
   "outputs": [],
   "source": [
    "df = dfFinal.reset_index()\n",
    "\n",
    "sale_data = df[df['callCenterLatestDispoGroup'] == 'Sale']\n",
    "mapping = sale_data.groupby('afid')\\\n",
    "                   .agg({'dialerLeadId':'count'})\\\n",
    "                   .apply(lambda x: x/x.sum())\n",
    "\n",
    "mapping.rename(columns={'dialerLeadId': 'afid_sales_probability'}, inplace=True)\n",
    "mapping = mapping.reset_index()\n",
    "\n",
    "mapper_afid = dict()\n",
    "for index, row in mapping.iterrows():\n",
    "    mapper_afid[row['afid']] = row['afid_sales_probability']\n",
    "    \n",
    "df['afid_sales_probability'] = df['afid'].map(mapper_afid)\n",
    "\n",
    "mask = df['afid_sales_probability'].isnull()\n",
    "df.loc[mask,'afid_sales_probability'] = 0\n",
    "df = df.drop('afid', axis=1)"
   ]
  },
  {
   "cell_type": "code",
   "execution_count": 25,
   "metadata": {},
   "outputs": [],
   "source": [
    "mask = (df['callCenterLatestDispoGroup'] == 'Sale') | \\\n",
    "       (df['callCenterLatestDispoGroup'] == 'No Sale')\n",
    "df = df[mask]"
   ]
  },
  {
   "cell_type": "markdown",
   "metadata": {},
   "source": [
    "---"
   ]
  },
  {
   "cell_type": "code",
   "execution_count": 26,
   "metadata": {},
   "outputs": [],
   "source": [
    "########################################################\n",
    "### Categorical label mappings - dimension reduction\n",
    "########################################################"
   ]
  },
  {
   "cell_type": "markdown",
   "metadata": {},
   "source": [
    "**Mapping categorical labels**\n",
    "\n",
    "- Campaign_id & Call skill features have 10 & 4 categories respectively, with very few records. Hence, they were combined into single categories.\n",
    "\n",
    "\n",
    "- Call center lead created reason have multiple sub categories for `Draft` and `Clone`. These were combined into their repective parent categories.\n",
    "\n",
    "\n",
    "- Individual age groups were mapped to four distinct groups - `Senior (61 & above)`, `MidAge (41 - 60)`, `Young (30 & below)` and `Unknown`."
   ]
  },
  {
   "cell_type": "code",
   "execution_count": 27,
   "metadata": {},
   "outputs": [],
   "source": [
    "# Combine small campaign ids into single category - zero\n",
    "small_campaigns = [1, 2, 4, 6, 7, 10, 12, 13, 14, 16]\n",
    "mask = df['campaign_id'].isin(small_campaigns)\n",
    "df.loc[mask, 'campaign_id'] = 0\n",
    "\n",
    "# Combine small callSkills into single category - zero\n",
    "small_callSkills = [1, 12, 21]\n",
    "mask = df['callSkill'].isin(small_callSkills)\n",
    "df.loc[mask, 'callSkill'] = 0"
   ]
  },
  {
   "cell_type": "code",
   "execution_count": 28,
   "metadata": {},
   "outputs": [],
   "source": [
    "# Combine Draft & Clone categories\n",
    "df.loc[df.callCenterLeadCreatedReason.str.contains('Draft'),\n",
    "       'callCenterLeadCreatedReason'] = 'Draft'\n",
    "df.loc[df.callCenterLeadCreatedReason.str.contains('Clone'),\n",
    "       'callCenterLeadCreatedReason'] = 'Clone'"
   ]
  },
  {
   "cell_type": "code",
   "execution_count": 29,
   "metadata": {},
   "outputs": [],
   "source": [
    "# Mapping age-groups into 3 categories\n",
    "mapping = {'61 - 70':'Senior', '71 - 80':'Senior', '81 - 90':'Senior',\n",
    "           'Over 90':'Senior', '31 - 40':'MidAge', '41 - 50':'MidAge',\n",
    "           '51 - 60':'MidAge', 'Under 20':'Young', '20 - 30':'Young',\n",
    "           'U':'Unknown'}\n",
    "           \n",
    "df.replace(to_replace=df['ageOnLeadGroup'], value=mapping, inplace=True)   "
   ]
  },
  {
   "cell_type": "code",
   "execution_count": 30,
   "metadata": {},
   "outputs": [],
   "source": [
    "# Change categorical features data types to object\n",
    "convert_dict = {'campaign_id': object,\n",
    "                'callCenterLeadEverContacted': object,\n",
    "                'everCallback': object,\n",
    "                'callSkill': object\n",
    "               }\n",
    "\n",
    "df = df.astype(convert_dict)"
   ]
  },
  {
   "cell_type": "code",
   "execution_count": 31,
   "metadata": {},
   "outputs": [],
   "source": [
    "# Drop dialer lead id and handle time features\n",
    "df.drop(['dialerLeadId', 'totalHandleTime'], axis=1, inplace=True)\n",
    "\n",
    "# Rename target column for easy referencing\n",
    "df.rename(columns={'callCenterLatestDispoGroup': 'target'}, inplace=True)"
   ]
  },
  {
   "cell_type": "markdown",
   "metadata": {},
   "source": [
    "---"
   ]
  },
  {
   "cell_type": "code",
   "execution_count": 32,
   "metadata": {},
   "outputs": [],
   "source": [
    "########################################################\n",
    "### Class distribution summmary\n",
    "########################################################"
   ]
  },
  {
   "cell_type": "markdown",
   "metadata": {},
   "source": [
    "**Target class distribution**\n",
    "\n",
    "- Final data for modeling has `11309` records and `15` features including the target variable.\n",
    "\n",
    "\n",
    "- The class distribution is highly skewed as inferred from the following analysis.\n",
    "\n",
    "\n",
    "- Final dataset has 4 numeric variables: mins to first dial, call attempts, total talk time and afid probabilities.\n",
    "\n",
    "\n",
    "- The first 3 features are right skewed with majority of the values close to lower end of x-axis as shown by histogram plots.\n",
    "\n",
    "\n",
    "- `Correlation` heat map shows no significant correlation among the numeric variables."
   ]
  },
  {
   "cell_type": "code",
   "execution_count": 33,
   "metadata": {},
   "outputs": [
    {
     "name": "stdout",
     "output_type": "stream",
     "text": [
      "Class=0, Count=9671, Percentage=85.440%\n",
      "Class=1, Count=1648, Percentage=14.560%\n"
     ]
    }
   ],
   "source": [
    "# summarize the class distribution\n",
    "target = df['target'].values\n",
    "counter = Counter(LabelEncoder().fit_transform(target))\n",
    "for k,v in counter.items():\n",
    "    per = v / len(target) * 100\n",
    "    print('Class=%d, Count=%d, Percentage=%.3f%%' % (k, v, per))"
   ]
  },
  {
   "cell_type": "code",
   "execution_count": 34,
   "metadata": {},
   "outputs": [
    {
     "data": {
      "image/png": "[encoded data removed]",
      "text/plain": [
       "<Figure size 936x936 with 4 Axes>"
      ]
     },
     "metadata": {},
     "output_type": "display_data"
    }
   ],
   "source": [
    "# select columns with numerical data types\n",
    "num_ix = df.select_dtypes(include=['int64', 'float64']).columns\n",
    "# select a subset of the dataframe with the chosen columns \n",
    "subset = df[num_ix]\n",
    "# create a histogram plot of each numeric variable\n",
    "ax = subset.hist()\n",
    "# disable axis labels to avoid the clutter\n",
    "for axis in ax.flatten():\n",
    "    axis.set_xticklabels([])\n",
    "    axis.set_yticklabels([])\n",
    "# show the plot\n",
    "plt.show()"
   ]
  },
  {
   "cell_type": "code",
   "execution_count": 35,
   "metadata": {},
   "outputs": [
    {
     "data": {
      "image/png": "[encoded data removed]",
      "text/plain": [
       "<Figure size 936x936 with 2 Axes>"
      ]
     },
     "metadata": {},
     "output_type": "display_data"
    }
   ],
   "source": [
    "# Correlation Matrix\n",
    "sns.heatmap(df[num_ix].corr(), annot=True, cbar=True, linewidths=0.5)\n",
    "plt.title(\"Fig8: Pearson correlation coefficients of features\",  y=1.01);"
   ]
  },
  {
   "cell_type": "markdown",
   "metadata": {},
   "source": [
    "---"
   ]
  },
  {
   "cell_type": "markdown",
   "metadata": {},
   "source": [
    "# Predictive Modeling Strategy"
   ]
  },
  {
   "cell_type": "markdown",
   "metadata": {},
   "source": [
    "- The `predictor space` consists of `14` features out of which `10` features are categorical and `4` are numeric features.\n",
    "\n",
    "\n",
    "- Categorical features are transformed using one hot encoding and numeric features are scaled for the final model.\n",
    "\n",
    "\n",
    "- There are `11,319,` total number of `tidy data` samples for training, validating and scoring machine learning models. These samples are split into training and test data; training data consists of `9,055` (`80%`) and test data consists of `2,264` (`20%`) samples. Random state is set to reproduce the same data splits.\n",
    "\n",
    "\n",
    "- Same `training` and `hold out` datasets are used for all machine learners.\n",
    "\n",
    "\n",
    "- `5` fold `cross-validation` technique is used to obtain optimal scores.\n",
    "\n",
    "\n",
    "- `F2` metric is used to evaluate and compare models' performance on test data."
   ]
  },
  {
   "cell_type": "code",
   "execution_count": 36,
   "metadata": {},
   "outputs": [],
   "source": [
    "########################################################\n",
    "### Train, test stratified data split\n",
    "########################################################"
   ]
  },
  {
   "cell_type": "code",
   "execution_count": 37,
   "metadata": {},
   "outputs": [],
   "source": [
    "leads_x, leads_y = df.drop('target', axis=1), df['target']"
   ]
  },
  {
   "cell_type": "code",
   "execution_count": 38,
   "metadata": {},
   "outputs": [],
   "source": [
    "X_train, X_test, y_train, y_test = train_test_split(leads_x, leads_y,\n",
    "                                                    stratify=leads_y, \n",
    "                                                    test_size=0.2,\n",
    "                                                    random_state=1)"
   ]
  },
  {
   "cell_type": "code",
   "execution_count": 39,
   "metadata": {},
   "outputs": [
    {
     "name": "stdout",
     "output_type": "stream",
     "text": [
      "Class=0, Count=1934, Percentage=85.424%\n",
      "Class=1, Count=330, Percentage=14.576%\n"
     ]
    }
   ],
   "source": [
    "# summarize the class distribution - test data\n",
    "target = y_test.values\n",
    "counter = Counter(LabelEncoder().fit_transform(target))\n",
    "for k,v in counter.items():\n",
    "    per = v / len(target) * 100\n",
    "    print('Class=%d, Count=%d, Percentage=%.3f%%' % (k, v, per))"
   ]
  },
  {
   "cell_type": "code",
   "execution_count": 40,
   "metadata": {},
   "outputs": [
    {
     "name": "stdout",
     "output_type": "stream",
     "text": [
      "Class=0, Count=7737, Percentage=85.445%\n",
      "Class=1, Count=1318, Percentage=14.555%\n"
     ]
    }
   ],
   "source": [
    "# summarize the class distribution - training data\n",
    "target = y_train.values\n",
    "counter = Counter(LabelEncoder().fit_transform(target))\n",
    "for k,v in counter.items():\n",
    "    per = v / len(target) * 100\n",
    "    print('Class=%d, Count=%d, Percentage=%.3f%%' % (k, v, per))"
   ]
  },
  {
   "cell_type": "markdown",
   "metadata": {},
   "source": [
    "---"
   ]
  },
  {
   "cell_type": "markdown",
   "metadata": {},
   "source": [
    "# Machine Learning models and performance analysis"
   ]
  },
  {
   "cell_type": "markdown",
   "metadata": {},
   "source": [
    "#### Spot check classifiers to discover which algorithms perform well on our use case.\n",
    "\n",
    "\n",
    "- **Linear Algorithms:** Logistic Regression (`LR`), Linear Discriminant Analysis(`LDA`) and Naive Bayes (`NB`).\n",
    "\n",
    "\n",
    "- **Nonlinear Algorithms:** Classification and Regression Trees (`CART`), k-Nearest Neighbors (`KNN`) and Support Vector Classification (`SVC`).\n",
    "\n",
    "\n",
    "- The algorithms were trained using default parameters."
   ]
  },
  {
   "cell_type": "markdown",
   "metadata": {},
   "source": [
    "---"
   ]
  },
  {
   "cell_type": "code",
   "execution_count": 41,
   "metadata": {},
   "outputs": [],
   "source": [
    "########################################################\n",
    "### Define functions for transformations and scoring\n",
    "########################################################"
   ]
  },
  {
   "cell_type": "code",
   "execution_count": 42,
   "metadata": {},
   "outputs": [],
   "source": [
    "def transform_dataset(X, y):\n",
    "    \"\"\"Transforms categorical features using one hot encoding\n",
    "       and encodes the binary target variable. \n",
    "    \"\"\"\n",
    "    # select categorical features\n",
    "    cat_ix = X.select_dtypes(include=['object']).columns\n",
    "    ct = ColumnTransformer([('c',OneHotEncoder(),cat_ix)],remainder='passthrough')\n",
    "    # label encode the target variable to have the classes 0 and 1\n",
    "    X = ct.fit_transform(X)\n",
    "    y = LabelEncoder().fit_transform(y)\n",
    "    return X, y\n",
    "\n",
    "# calculate f2-measure\n",
    "def f2_measure(y_true, y_pred):\n",
    "    return fbeta_score(y_true, y_pred, beta=2)\n",
    "\n",
    "metric = make_scorer(f2_measure)"
   ]
  },
  {
   "cell_type": "code",
   "execution_count": 43,
   "metadata": {},
   "outputs": [],
   "source": [
    "########################################################\n",
    "### Transform training data and train models\n",
    "########################################################"
   ]
  },
  {
   "cell_type": "code",
   "execution_count": 44,
   "metadata": {},
   "outputs": [],
   "source": [
    "# Create encoded dataset\n",
    "X_train_en, y_train_en = transform_dataset(X_train, y_train)"
   ]
  },
  {
   "cell_type": "code",
   "execution_count": 45,
   "metadata": {},
   "outputs": [],
   "source": [
    "# Test options and evaluation metric\n",
    "num_folds = 5\n",
    "seed = 1\n",
    "scoring = metric"
   ]
  },
  {
   "cell_type": "code",
   "execution_count": 46,
   "metadata": {},
   "outputs": [],
   "source": [
    "# Spot-Check Algorithms\n",
    "models = []\n",
    "models.append(('LR', LogisticRegression(solver='liblinear'))) \n",
    "models.append(('LDA', LinearDiscriminantAnalysis()))\n",
    "models.append(('KNN', KNeighborsClassifier())) \n",
    "models.append(('CART', DecisionTreeClassifier())) \n",
    "models.append(('NB', GaussianNB()))\n",
    "models.append(('SVM', SVC(gamma='auto')))"
   ]
  },
  {
   "cell_type": "code",
   "execution_count": 47,
   "metadata": {},
   "outputs": [
    {
     "name": "stdout",
     "output_type": "stream",
     "text": [
      "LR: 0.787613 (0.019487)\n",
      "LDA: 0.761643 (0.019620)\n",
      "KNN: 0.756371 (0.016681)\n",
      "CART: 0.788034 (0.023922)\n",
      "NB: 0.720646 (0.018645)\n",
      "SVM: 0.393410 (0.027184)\n"
     ]
    }
   ],
   "source": [
    "results = []\n",
    "names = []\n",
    "for name, model in models:\n",
    "  kfold = KFold(n_splits=num_folds, random_state=seed, shuffle=True)\n",
    "  cv_results = cross_val_score(model, X_train_en, y_train_en, cv=kfold,\n",
    "                               scoring=scoring)\n",
    "  results.append(cv_results)\n",
    "  names.append(name)\n",
    "  msg = \"%s: %f (%f)\" % (name, cv_results.mean(), cv_results.std())\n",
    "  print(msg)"
   ]
  },
  {
   "cell_type": "code",
   "execution_count": 48,
   "metadata": {},
   "outputs": [],
   "source": [
    "########################################################\n",
    "### Performance comparison of algorithms\n",
    "########################################################"
   ]
  },
  {
   "cell_type": "markdown",
   "metadata": {},
   "source": [
    "- **`LR` has highest `F2` followed by `CART`.** \n",
    "\n",
    "\n",
    "- **`LDA`, `KNN` have similar performance.**\n",
    "\n",
    "\n",
    "- **`SVM` has a comparatively poor performance. As `SVM` is sensitive to features on different scales, standardizing the numeric features might improve its performance.**"
   ]
  },
  {
   "cell_type": "code",
   "execution_count": 49,
   "metadata": {},
   "outputs": [
    {
     "data": {
      "image/png": "[encoded data removed]",
      "text/plain": [
       "<Figure size 936x936 with 1 Axes>"
      ]
     },
     "metadata": {},
     "output_type": "display_data"
    }
   ],
   "source": [
    "# Compare Algorithms\n",
    "fig = plt.figure() \n",
    "fig.suptitle('Algorithm Comparison') \n",
    "ax = fig.add_subplot(111) \n",
    "plt.boxplot(results) \n",
    "ax.set_xticklabels(names) \n",
    "plt.show();"
   ]
  },
  {
   "cell_type": "markdown",
   "metadata": {},
   "source": [
    "---"
   ]
  },
  {
   "cell_type": "code",
   "execution_count": 50,
   "metadata": {},
   "outputs": [],
   "source": [
    "########################################################\n",
    "### Transform training data\n",
    "########################################################"
   ]
  },
  {
   "cell_type": "code",
   "execution_count": 51,
   "metadata": {},
   "outputs": [],
   "source": [
    "# Modify the transform_dataset function to include names of categorical \n",
    "# and numeric variables.\n",
    "\n",
    "def transform_dataset(X, y):\n",
    "    # select categorical features\n",
    "    cat_ix = X.select_dtypes(include=['object']).columns\n",
    "    num_ix = X.select_dtypes(include=['int64', 'float64']).columns\n",
    "    # label encode the target variable to have the classes 0 and 1\n",
    "    y = LabelEncoder().fit_transform(y)\n",
    "    return X, y, cat_ix, num_ix\n",
    "    \n",
    "\n",
    "# Create encoded dataset\n",
    "X_train_en_s, y_train_en_s, cat_ix, num_ix = transform_dataset(X_train, y_train)"
   ]
  },
  {
   "cell_type": "code",
   "execution_count": 52,
   "metadata": {},
   "outputs": [],
   "source": [
    "########################################################\n",
    "### Standardize numeric variables and train algorithms\n",
    "########################################################"
   ]
  },
  {
   "cell_type": "code",
   "execution_count": 53,
   "metadata": {},
   "outputs": [
    {
     "name": "stdout",
     "output_type": "stream",
     "text": [
      "ohe_scaledLR: 0.782636 (0.019320)\n",
      "ohe_scaledLDA: 0.761643 (0.019620)\n",
      "ohe_scaledKNN: 0.795415 (0.020039)\n",
      "ohe_scaledCART: 0.783699 (0.016650)\n",
      "ohe_scaledNB: 0.676549 (0.096593)\n",
      "ohe_scaledSVM: 0.810198 (0.018324)\n"
     ]
    }
   ],
   "source": [
    "# Define the transformer for pipeline\n",
    "ct = ColumnTransformer([('c',OneHotEncoder(),cat_ix), \n",
    "                        ('n',StandardScaler(),num_ix)],\n",
    "                         remainder='passthrough')\n",
    "\n",
    "# One hot encode the categorical columns and standardize the numeric columns\n",
    "pipelines = []\n",
    "\n",
    "pipelines.append(('ohe_scaledLR', \n",
    "                  Pipeline([('c', ct),('LR', LogisticRegression(solver='liblinear'))]))) \n",
    "pipelines.append(('ohe_scaledLDA', \n",
    "                  Pipeline([('c', ct),('LDA', LinearDiscriminantAnalysis())])))\n",
    "pipelines.append(('ohe_scaledKNN', \n",
    "                  Pipeline([('c', ct),('KNN', KNeighborsClassifier())])))\n",
    "pipelines.append(('ohe_scaledCART', \n",
    "                  Pipeline([('c', ct),('CART', DecisionTreeClassifier())])))\n",
    "pipelines.append(('ohe_scaledNB', \n",
    "                  Pipeline([('c', ct),('NB', GaussianNB())])))\n",
    "pipelines.append(('ohe_scaledSVM', \n",
    "                  Pipeline([('c', ct),('SVM', SVC(gamma='auto'))])))\n",
    "\n",
    "results = []\n",
    "names = []\n",
    "\n",
    "for name, model in pipelines:\n",
    "    kfold = KFold(n_splits=num_folds, random_state=seed, shuffle=True)\n",
    "    cv_results = cross_val_score(model, X_train_en_s, y_train_en_s, cv=kfold,\n",
    "                                 scoring=scoring)\n",
    "    results.append(cv_results)\n",
    "    names.append(name)\n",
    "    msg = \"%s: %f (%f)\" % (name, cv_results.mean(), cv_results.std())\n",
    "    print(msg)"
   ]
  },
  {
   "cell_type": "code",
   "execution_count": 54,
   "metadata": {},
   "outputs": [],
   "source": [
    "########################################################\n",
    "### Performance comparison of algorithms\n",
    "########################################################"
   ]
  },
  {
   "cell_type": "markdown",
   "metadata": {},
   "source": [
    "- **`SVM` is the best performing model with tighter distribution of scores and highest mean scores.**\n",
    "\n",
    "\n",
    "- **Performances of `KNN` & `SVM` have significantly improved after standardizing the numeric features.**\n",
    "\n",
    "\n",
    "- **`NB` has a comparatively poor performance which has degraded in comparison to spot-check training.**"
   ]
  },
  {
   "cell_type": "code",
   "execution_count": 55,
   "metadata": {},
   "outputs": [
    {
     "data": {
      "image/png": "[encoded data removed]",
      "text/plain": [
       "<Figure size 936x936 with 1 Axes>"
      ]
     },
     "metadata": {},
     "output_type": "display_data"
    }
   ],
   "source": [
    "# plot the results\n",
    "plt.boxplot(results, labels=names, showmeans=True) \n",
    "plt.show();"
   ]
  },
  {
   "cell_type": "markdown",
   "metadata": {},
   "source": [
    "---"
   ]
  },
  {
   "cell_type": "markdown",
   "metadata": {},
   "source": [
    "# Model of choice"
   ]
  },
  {
   "cell_type": "markdown",
   "metadata": {},
   "source": [
    "- `SVM` is selected as the candidate model, based on its superior performance.\n",
    "\n",
    "\n",
    "- `SVM` with default parameters was fitted to the whole training dataset.\n",
    "\n",
    "\n",
    "- Numeric variables are standardized and `training data` categorical variables are encoded using one hot encoding. Same tranformation is applied to the hold out test data."
   ]
  },
  {
   "cell_type": "markdown",
   "metadata": {},
   "source": [
    "---"
   ]
  },
  {
   "cell_type": "code",
   "execution_count": 56,
   "metadata": {},
   "outputs": [],
   "source": [
    "########################################################\n",
    "### Feature encoding - One hot, standardize\n",
    "########################################################"
   ]
  },
  {
   "cell_type": "code",
   "execution_count": 57,
   "metadata": {},
   "outputs": [],
   "source": [
    "enc = OneHotEncoder(handle_unknown = 'ignore')\n",
    "scaler = StandardScaler()\n",
    "\n",
    "encoderFit = enc.fit(X_train_en_s[cat_ix])\n",
    "encodedDF = encoderFit.transform(X_train_en_s[cat_ix]).toarray()\n",
    "\n",
    "scalerFit = scaler.fit(X_train_en_s[num_ix])\n",
    "scaledDF = scalerFit.transform(X_train_en_s[num_ix])"
   ]
  },
  {
   "cell_type": "code",
   "execution_count": 58,
   "metadata": {},
   "outputs": [],
   "source": [
    "# combine categorical and numeric data arrays\n",
    "trainingArray = np.hstack([encodedDF,scaledDF])"
   ]
  },
  {
   "cell_type": "code",
   "execution_count": 59,
   "metadata": {},
   "outputs": [
    {
     "data": {
      "text/plain": [
       "SVC(gamma='auto')"
      ]
     },
     "execution_count": 59,
     "metadata": {},
     "output_type": "execute_result"
    }
   ],
   "source": [
    "# Train the binary classifier\n",
    "model = SVC(gamma='auto')\n",
    "model.fit(trainingArray, y_train_en_s)"
   ]
  },
  {
   "cell_type": "markdown",
   "metadata": {},
   "source": [
    "---"
   ]
  },
  {
   "cell_type": "markdown",
   "metadata": {},
   "source": [
    "# Predict Sales"
   ]
  },
  {
   "cell_type": "code",
   "execution_count": 60,
   "metadata": {},
   "outputs": [],
   "source": [
    "########################################################\n",
    "### Test data transformations - One hot, standardize\n",
    "########################################################"
   ]
  },
  {
   "cell_type": "code",
   "execution_count": 61,
   "metadata": {},
   "outputs": [],
   "source": [
    "# Transform target variable\n",
    "X_test_en_s, y_test_en_s, cat_ix, num_ix = transform_dataset(X_test, y_test)"
   ]
  },
  {
   "cell_type": "code",
   "execution_count": 62,
   "metadata": {},
   "outputs": [],
   "source": [
    "# Encode features\n",
    "encodedTestDF = encoderFit.transform(X_test_en_s[cat_ix]).toarray()\n",
    "scaledTestDF = scalerFit.transform(X_test_en_s[num_ix])\n",
    "testArray = np.hstack([encodedTestDF,scaledTestDF])"
   ]
  },
  {
   "cell_type": "code",
   "execution_count": 63,
   "metadata": {},
   "outputs": [],
   "source": [
    "# Make sales predictions\n",
    "predictions = model.predict(testArray)"
   ]
  },
  {
   "cell_type": "code",
   "execution_count": 64,
   "metadata": {},
   "outputs": [],
   "source": [
    "########################################################\n",
    "### Confusion Matrix & Classification Report\n",
    "########################################################"
   ]
  },
  {
   "cell_type": "code",
   "execution_count": 65,
   "metadata": {},
   "outputs": [
    {
     "name": "stdout",
     "output_type": "stream",
     "text": [
      "[[1883   51]\n",
      " [  61  269]]\n"
     ]
    }
   ],
   "source": [
    "print(confusion_matrix(y_test_en_s, predictions))"
   ]
  },
  {
   "cell_type": "code",
   "execution_count": 66,
   "metadata": {},
   "outputs": [
    {
     "name": "stdout",
     "output_type": "stream",
     "text": [
      "              precision    recall  f1-score   support\n",
      "\n",
      "           0       0.97      0.97      0.97      1934\n",
      "           1       0.84      0.82      0.83       330\n",
      "\n",
      "    accuracy                           0.95      2264\n",
      "   macro avg       0.90      0.89      0.90      2264\n",
      "weighted avg       0.95      0.95      0.95      2264\n",
      "\n"
     ]
    }
   ],
   "source": [
    "print(classification_report(y_test_en_s, predictions))"
   ]
  },
  {
   "cell_type": "markdown",
   "metadata": {},
   "source": [
    "---"
   ]
  },
  {
   "cell_type": "markdown",
   "metadata": {},
   "source": [
    "# Conclusion\n",
    "\n",
    "- **The model of choice: `SVM`.**\n",
    "\n",
    "\n",
    "- **Model has predicted the sales in hold out test data with the precision of `84 %`.**\n",
    "\n",
    "\n",
    "- **Recall is `84 %` indicating that model is equipped in detecting true positives with high accuracy and low false negative rate.**"
   ]
  }
 ],
 "metadata": {
  "kernelspec": {
   "display_name": "Python 3",
   "language": "python",
   "name": "python3"
  },
  "language_info": {
   "codemirror_mode": {
    "name": "ipython",
    "version": 3
   },
   "file_extension": ".py",
   "mimetype": "text/x-python",
   "name": "python",
   "nbconvert_exporter": "python",
   "pygments_lexer": "ipython3",
   "version": "3.8.2"
  }
 },
 "nbformat": 4,
 "nbformat_minor": 4
}
